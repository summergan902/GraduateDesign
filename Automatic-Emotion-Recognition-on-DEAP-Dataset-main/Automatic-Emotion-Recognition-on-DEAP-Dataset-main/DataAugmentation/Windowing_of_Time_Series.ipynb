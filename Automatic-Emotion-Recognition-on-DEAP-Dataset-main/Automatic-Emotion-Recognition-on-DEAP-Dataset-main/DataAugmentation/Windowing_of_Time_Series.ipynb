{
  "nbformat": 4,
  "nbformat_minor": 0,
  "metadata": {
    "colab": {
      "name": "Windowing of Time Series.ipynb",
      "provenance": [],
      "collapsed_sections": [],
      "toc_visible": true,
      "include_colab_link": true
    },
    "kernelspec": {
      "name": "python3",
      "display_name": "Python 3"
    }
  },
  "cells": [
    {
      "cell_type": "markdown",
      "metadata": {
        "id": "view-in-github",
        "colab_type": "text"
      },
      "source": [
        "<a href=\"https://colab.research.google.com/github/vipulSharma18/Automatic-Emotion-Recognition-on-DEAP-Dataset/blob/main/DataAugmentation/Windowing_of_Time_Series.ipynb\" target=\"_parent\"><img src=\"https://colab.research.google.com/assets/colab-badge.svg\" alt=\"Open In Colab\"/></a>"
      ]
    },
    {
      "cell_type": "markdown",
      "metadata": {
        "id": "qOIKN397TkGK"
      },
      "source": [
        "# Add Google Drive"
      ]
    },
    {
      "cell_type": "code",
      "metadata": {
        "id": "jAkhHc84RFps",
        "colab": {
          "base_uri": "https://localhost:8080/"
        },
        "outputId": "2b2af98f-21fa-440f-9660-a0285ecb7c64"
      },
      "source": [
        "from google.colab import drive\r\n",
        "drive.mount('/content/drive')"
      ],
      "execution_count": 1,
      "outputs": [
        {
          "output_type": "stream",
          "text": [
            "Mounted at /content/drive\n"
          ],
          "name": "stdout"
        }
      ]
    },
    {
      "cell_type": "markdown",
      "metadata": {
        "id": "sePFuqjSSzzW"
      },
      "source": [
        "# Importing Relevant Libraries"
      ]
    },
    {
      "cell_type": "code",
      "metadata": {
        "id": "XKto0bShTo8Q"
      },
      "source": [
        "import pandas as pd\r\n",
        "import tensorflow as tf\r\n",
        "import numpy as np\r\n",
        "import tensorflow.keras as keras\r\n",
        "from tensorflow.keras import Sequential\r\n",
        "from tensorflow.keras.layers import Conv1D\r\n",
        "from tensorflow.keras.layers import MaxPooling1D\r\n",
        "from tensorflow.keras.layers import Flatten\r\n",
        "from tensorflow.keras.layers import Dense\r\n",
        "from tensorflow.keras.layers import Dropout\r\n",
        "from tensorflow.keras.layers import BatchNormalization\r\n",
        "from tensorflow.keras.layers import Softmax\r\n",
        "from sklearn.metrics import classification_report\r\n",
        "from keras.utils.vis_utils import plot_model\r\n",
        "from sklearn.preprocessing import StandardScaler\r\n",
        "import matplotlib.pyplot as plt\r\n",
        "import pickle\r\n",
        "from scipy.stats import zscore\r\n",
        "from sklearn.model_selection import train_test_split\r\n",
        "from sklearn import preprocessing\r\n",
        "import gc"
      ],
      "execution_count": 2,
      "outputs": []
    },
    {
      "cell_type": "code",
      "metadata": {
        "id": "s62df0ZsoV3v"
      },
      "source": [
        ""
      ],
      "execution_count": null,
      "outputs": []
    },
    {
      "cell_type": "markdown",
      "metadata": {
        "id": "1KwvTxntVWdO"
      },
      "source": [
        "# GPU Check"
      ]
    },
    {
      "cell_type": "code",
      "metadata": {
        "colab": {
          "base_uri": "https://localhost:8080/"
        },
        "id": "v_-_kIr3VPbW",
        "outputId": "4dba5b4d-ec12-4b48-e669-d1c2e124c975"
      },
      "source": [
        "print(tf.version.VERSION)\r\n",
        "print(tf.config.experimental.list_physical_devices('GPU'))\r\n",
        "print(\"Num GPUs Available: \", len(tf.config.experimental.list_physical_devices('GPU')))"
      ],
      "execution_count": 3,
      "outputs": [
        {
          "output_type": "stream",
          "text": [
            "2.4.1\n",
            "[]\n",
            "Num GPUs Available:  0\n"
          ],
          "name": "stdout"
        }
      ]
    },
    {
      "cell_type": "markdown",
      "metadata": {
        "id": "RUGKR7rKALkc"
      },
      "source": [
        "# Data Augmentation"
      ]
    },
    {
      "cell_type": "markdown",
      "metadata": {
        "id": "Y-zRwIXuE1Dw"
      },
      "source": [
        "## Load Data from .dat files into a np array of 1280 x 32 x 8064 size"
      ]
    },
    {
      "cell_type": "code",
      "metadata": {
        "id": "IBrvJXFLVXfY"
      },
      "source": [
        "all_sub_data = []\r\n",
        "subjects_list = ['01', '02', '03', '04', '05', '06', '07', '08', '09', '10', '11', '12', '13', '14', '15', '16', '17', '18', '19', '20', '21', '22', '23', '24', '25', '26', '27', '28', '29', '30', '31', '32']\r\n",
        "for sub in subjects_list:\r\n",
        "    path = \"/content/drive/MyDrive/major project/data_preprocessed_python/s\"+sub+\".dat\"\r\n",
        "    x = pickle.load(open(path, 'rb'), encoding = 'latin1')\r\n",
        "    sub_data = x['data']\r\n",
        "    sub_eeg = sub_data[:, :32, :]  #indexing EEG signals from physiological data\r\n",
        "    all_sub_data.extend(sub_eeg)\r\n",
        "    gc.collect()\r\n",
        "gc.collect()\r\n",
        "all_sub_data = np.array(all_sub_data)"
      ],
      "execution_count": 4,
      "outputs": []
    },
    {
      "cell_type": "code",
      "metadata": {
        "colab": {
          "base_uri": "https://localhost:8080/"
        },
        "id": "tQDfrbarAEEM",
        "outputId": "4f145bc4-afd8-4d8d-e824-42b875c5ef98"
      },
      "source": [
        "all_sub_data.shape"
      ],
      "execution_count": 5,
      "outputs": [
        {
          "output_type": "execute_result",
          "data": {
            "text/plain": [
              "(1280, 32, 8064)"
            ]
          },
          "metadata": {
            "tags": []
          },
          "execution_count": 5
        }
      ]
    },
    {
      "cell_type": "markdown",
      "metadata": {
        "id": "XZCzWyC3E0LE"
      },
      "source": [
        "## Z-score normalization of each EEG signal, resultant np.array is all_sub_data"
      ]
    },
    {
      "cell_type": "code",
      "metadata": {
        "id": "6k0v3c0CAa37",
        "colab": {
          "base_uri": "https://localhost:8080/"
        },
        "outputId": "983b0ba3-69b6-4770-b72a-be4a3f8efb11"
      },
      "source": [
        "for sub in range(all_sub_data.shape[0]):\r\n",
        "  all_sub_data[sub] = zscore(all_sub_data[sub], axis = 1)  #zscore normalize each channel\r\n",
        "gc.collect()"
      ],
      "execution_count": 6,
      "outputs": [
        {
          "output_type": "execute_result",
          "data": {
            "text/plain": [
              "22"
            ]
          },
          "metadata": {
            "tags": []
          },
          "execution_count": 6
        }
      ]
    },
    {
      "cell_type": "markdown",
      "metadata": {
        "id": "y_iMln5YFpPm"
      },
      "source": [
        "## Label Loading into np array of 1280 x 1 named, sub_labels"
      ]
    },
    {
      "cell_type": "code",
      "metadata": {
        "colab": {
          "base_uri": "https://localhost:8080/"
        },
        "id": "gSkKkHMSExMw",
        "outputId": "fd2d9cd0-535a-4919-ee83-221f12d7d621"
      },
      "source": [
        "labels = pd.read_excel(\"/content/drive/MyDrive/major project/metadata/Labels.xls\")\r\n",
        "sub_labels = labels[\"Valence-Arousal Model Quadrant\"].astype('int')\r\n",
        "sub_labels\r\n",
        "gc.collect()"
      ],
      "execution_count": 7,
      "outputs": [
        {
          "output_type": "execute_result",
          "data": {
            "text/plain": [
              "3058"
            ]
          },
          "metadata": {
            "tags": []
          },
          "execution_count": 7
        }
      ]
    },
    {
      "cell_type": "markdown",
      "metadata": {
        "id": "qW2H4bC0F8i1"
      },
      "source": [
        "## One-Hot encoding of labels  \r\n",
        "> sub_labels: (1280,4)"
      ]
    },
    {
      "cell_type": "code",
      "metadata": {
        "colab": {
          "base_uri": "https://localhost:8080/"
        },
        "id": "iS2wFxlQFtrh",
        "outputId": "f5b039aa-7e14-4579-cac6-385dd5f010e9"
      },
      "source": [
        "lb = preprocessing.LabelBinarizer()\r\n",
        "sub_labels = lb.fit_transform(sub_labels)\r\n",
        "print(lb.classes_)\r\n",
        "print(sub_labels.shape)\r\n",
        "print(sub_labels)"
      ],
      "execution_count": 8,
      "outputs": [
        {
          "output_type": "stream",
          "text": [
            "[0 1 2 3]\n",
            "(1280, 4)\n",
            "[[0 0 0 1]\n",
            " [0 0 0 1]\n",
            " [0 0 0 1]\n",
            " ...\n",
            " [0 1 0 0]\n",
            " [0 1 0 0]\n",
            " [0 0 1 0]]\n"
          ],
          "name": "stdout"
        }
      ]
    },
    {
      "cell_type": "code",
      "metadata": {
        "colab": {
          "base_uri": "https://localhost:8080/"
        },
        "id": "Zm3vZbEbGMmd",
        "outputId": "bfe63c97-d0a7-4660-968f-d35a3d2e2b8b"
      },
      "source": [
        "sub_labels.shape"
      ],
      "execution_count": 9,
      "outputs": [
        {
          "output_type": "execute_result",
          "data": {
            "text/plain": [
              "(1280, 4)"
            ]
          },
          "metadata": {
            "tags": []
          },
          "execution_count": 9
        }
      ]
    },
    {
      "cell_type": "code",
      "metadata": {
        "id": "2BKGgYS1GOqz",
        "colab": {
          "base_uri": "https://localhost:8080/"
        },
        "outputId": "669cfbb2-3885-449f-aeaa-b0fe1dfaed05"
      },
      "source": [
        "gc.collect()"
      ],
      "execution_count": 10,
      "outputs": [
        {
          "output_type": "execute_result",
          "data": {
            "text/plain": [
              "0"
            ]
          },
          "metadata": {
            "tags": []
          },
          "execution_count": 10
        }
      ]
    },
    {
      "cell_type": "markdown",
      "metadata": {
        "id": "dMaxASVXGRtj"
      },
      "source": [
        "## Generating Train Test Splits,  \r\n",
        "> X_train, y_train: (1152,32,8064), (1152,4)  \r\n",
        "> X_test, y_test: (128,32,8064), (128,4)  "
      ]
    },
    {
      "cell_type": "code",
      "metadata": {
        "id": "5jLCp18rGVuh"
      },
      "source": [
        "X_train, X_test, y_train, y_test = train_test_split(all_sub_data, sub_labels, test_size = 0.1, random_state = 42,shuffle = True)"
      ],
      "execution_count": 11,
      "outputs": []
    },
    {
      "cell_type": "code",
      "metadata": {
        "colab": {
          "base_uri": "https://localhost:8080/"
        },
        "id": "Rzb207S6IimP",
        "outputId": "7d6b18f3-0596-44e6-e5fb-3f2917bddc98"
      },
      "source": [
        "X_train.shape, y_train.shape, X_test.shape, y_test.shape"
      ],
      "execution_count": 12,
      "outputs": [
        {
          "output_type": "execute_result",
          "data": {
            "text/plain": [
              "((1152, 32, 8064), (1152, 4), (128, 32, 8064), (128, 4))"
            ]
          },
          "metadata": {
            "tags": []
          },
          "execution_count": 12
        }
      ]
    },
    {
      "cell_type": "code",
      "metadata": {
        "id": "6306xrqyIoni",
        "colab": {
          "base_uri": "https://localhost:8080/"
        },
        "outputId": "ac2bd7ac-207c-4243-99ff-9525bdb57820"
      },
      "source": [
        "gc.collect()"
      ],
      "execution_count": 13,
      "outputs": [
        {
          "output_type": "execute_result",
          "data": {
            "text/plain": [
              "0"
            ]
          },
          "metadata": {
            "tags": []
          },
          "execution_count": 13
        }
      ]
    },
    {
      "cell_type": "markdown",
      "metadata": {
        "id": "MbLBgzu2hLKh"
      },
      "source": [
        "## Repetition of Labels for Windowing of training data  \r\n",
        "\r\n",
        "> y_train_12, y_train_6, y_train_4 of shapes(?,4): 13824, 6912 and 4608 respectively \r\n"
      ]
    },
    {
      "cell_type": "code",
      "metadata": {
        "colab": {
          "base_uri": "https://localhost:8080/"
        },
        "id": "0kZRCXm-d0Oj",
        "outputId": "77e6d574-3ed7-42f4-bb8b-99e27fc996e8"
      },
      "source": [
        "#12,6 and 4 subsignals are generated from 8064 length EEG signal, labels repeated accordingly\r\n",
        "y_train_12 = np.repeat(y_train, 12, axis = 0)\r\n",
        "y_train_6 = np.repeat(y_train, 6, axis = 0)\r\n",
        "y_train_4 = np.repeat(y_train, 4, axis = 0)\r\n",
        "gc.collect()\r\n",
        "print(y_train_12.shape, y_train_6.shape, y_train_4.shape)"
      ],
      "execution_count": 14,
      "outputs": [
        {
          "output_type": "stream",
          "text": [
            "(13824, 4) (6912, 4) (4608, 4)\n"
          ],
          "name": "stdout"
        }
      ]
    },
    {
      "cell_type": "markdown",
      "metadata": {
        "id": "hDYiz9Gshkih"
      },
      "source": [
        "## Windowing of EEG singals Channel wise"
      ]
    },
    {
      "cell_type": "code",
      "metadata": {
        "id": "3wVHirSWYuVQ"
      },
      "source": [
        "Channel_wise = np.transpose(X_train, (1,0,2))"
      ],
      "execution_count": 15,
      "outputs": []
    },
    {
      "cell_type": "code",
      "metadata": {
        "colab": {
          "base_uri": "https://localhost:8080/"
        },
        "id": "Nugeg0kgoh00",
        "outputId": "658f2b0b-ec95-49df-c016-d4a33cecb210"
      },
      "source": [
        "gc.collect()\r\n",
        "print(Channel_wise[0].shape)"
      ],
      "execution_count": 16,
      "outputs": [
        {
          "output_type": "stream",
          "text": [
            "(1152, 8064)\n"
          ],
          "name": "stdout"
        }
      ]
    },
    {
      "cell_type": "code",
      "metadata": {
        "id": "El4sFpkcyh24"
      },
      "source": [
        "def process_input(instances, sub_signals):\r\n",
        "  #instances must be channel wise of shape (32, -1, 8064)\r\n",
        "  samples = int(8064/sub_signals)\r\n",
        "  transformed = []\r\n",
        "  for i in range(instances.shape[0]):\r\n",
        "    transformed.append(np.reshape(instances[i], (-1,samples,1)))\r\n",
        "  transformed = np.array(transformed)\r\n",
        "  print(transformed.shape, 'is the shape obtained.')\r\n",
        "  gc.collect()\r\n",
        "  return transformed"
      ],
      "execution_count": 17,
      "outputs": []
    },
    {
      "cell_type": "markdown",
      "metadata": {
        "id": "k8JkC-thgX70"
      },
      "source": [
        "### 12 sub signals of length 672 each, total 13824 instances"
      ]
    },
    {
      "cell_type": "code",
      "metadata": {
        "colab": {
          "base_uri": "https://localhost:8080/"
        },
        "id": "jAf6zyrW2QO9",
        "outputId": "6c9df0d6-d947-414a-9cc3-08b7ef4fab6d"
      },
      "source": [
        "channel_wise_12 = process_input(Channel_wise, 12)\r\n",
        "np.save(\"/content/drive/MyDrive/major project/data_augmentation/channel_wise_12.npy\", channel_wise_12)\r\n",
        "del(channel_wise_12)\r\n",
        "gc.collect()"
      ],
      "execution_count": 18,
      "outputs": [
        {
          "output_type": "stream",
          "text": [
            "(32, 13824, 672, 1) is the shape obtained.\n"
          ],
          "name": "stdout"
        },
        {
          "output_type": "execute_result",
          "data": {
            "text/plain": [
              "0"
            ]
          },
          "metadata": {
            "tags": []
          },
          "execution_count": 18
        }
      ]
    },
    {
      "cell_type": "markdown",
      "metadata": {
        "id": "pcQGE_1Cggo8"
      },
      "source": [
        "### 6 sub signals of length 1344 each, total 6912 instances"
      ]
    },
    {
      "cell_type": "code",
      "metadata": {
        "id": "XUCB6L7r3NCw",
        "colab": {
          "base_uri": "https://localhost:8080/"
        },
        "outputId": "52ca233b-776e-488f-94fc-9d28814cd177"
      },
      "source": [
        "channel_wise_6 = process_input(Channel_wise, 6)\r\n",
        "np.save(\"/content/drive/MyDrive/major project/data_augmentation/channel_wise_6.npy\", channel_wise_6)\r\n",
        "del(channel_wise_6)\r\n",
        "gc.collect()"
      ],
      "execution_count": 19,
      "outputs": [
        {
          "output_type": "stream",
          "text": [
            "(32, 6912, 1344, 1) is the shape obtained.\n"
          ],
          "name": "stdout"
        },
        {
          "output_type": "execute_result",
          "data": {
            "text/plain": [
              "0"
            ]
          },
          "metadata": {
            "tags": []
          },
          "execution_count": 19
        }
      ]
    },
    {
      "cell_type": "markdown",
      "metadata": {
        "id": "N5MiX9c3goCv"
      },
      "source": [
        "### 4 sub signals of length 2016 each, total 4608 instances"
      ]
    },
    {
      "cell_type": "code",
      "metadata": {
        "colab": {
          "base_uri": "https://localhost:8080/"
        },
        "id": "KLdrXz4Re7yQ",
        "outputId": "cb5b8bd3-b90a-44f8-dea6-029468a4a9d2"
      },
      "source": [
        "channel_wise_4 = process_input(Channel_wise, 4)\r\n",
        "np.save(\"/content/drive/MyDrive/major project/data_augmentation/channel_wise_4.npy\", channel_wise_4)\r\n",
        "del(channel_wise_4)\r\n",
        "gc.collect()"
      ],
      "execution_count": 20,
      "outputs": [
        {
          "output_type": "stream",
          "text": [
            "(32, 4608, 2016, 1) is the shape obtained.\n"
          ],
          "name": "stdout"
        },
        {
          "output_type": "execute_result",
          "data": {
            "text/plain": [
              "0"
            ]
          },
          "metadata": {
            "tags": []
          },
          "execution_count": 20
        }
      ]
    },
    {
      "cell_type": "code",
      "metadata": {
        "colab": {
          "base_uri": "https://localhost:8080/"
        },
        "id": "7dIg_b-_W7ZD",
        "outputId": "0d3dba8f-a8e3-4edc-f321-0dfd7bd230d6"
      },
      "source": [
        "gc.collect()"
      ],
      "execution_count": 21,
      "outputs": [
        {
          "output_type": "execute_result",
          "data": {
            "text/plain": [
              "0"
            ]
          },
          "metadata": {
            "tags": []
          },
          "execution_count": 21
        }
      ]
    },
    {
      "cell_type": "code",
      "metadata": {
        "id": "NovzVdmefUqI"
      },
      "source": [
        ""
      ],
      "execution_count": 21,
      "outputs": []
    }
  ]
}